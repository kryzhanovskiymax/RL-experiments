{
 "cells": [
  {
   "cell_type": "code",
   "execution_count": 1,
   "id": "04a97f3d-f486-4e0b-9ecb-85575431e2d8",
   "metadata": {},
   "outputs": [],
   "source": [
    "from env import TicTacToeEnv\n",
    "from agent import Agent, HumanAgent"
   ]
  },
  {
   "cell_type": "markdown",
   "id": "9a16ad29-29a5-4ade-b44e-86724a320600",
   "metadata": {},
   "source": [
    "# Training"
   ]
  },
  {
   "cell_type": "code",
   "execution_count": 7,
   "id": "5a650752-27dd-4140-9e18-c032d30fcc98",
   "metadata": {},
   "outputs": [
    {
     "name": "stderr",
     "output_type": "stream",
     "text": [
      "100%|███████████████████████████████████████████████████████████████████████████████████████████████████████████████████████| 50000/50000 [03:45<00:00, 221.79it/s]\n"
     ]
    }
   ],
   "source": [
    "p1 = Agent(\"A1\")\n",
    "p2 = Agent(\"A2\")\n",
    "\n",
    "env = TicTacToeEnv(p1, p2)\n",
    "env.play(50000)"
   ]
  },
  {
   "cell_type": "code",
   "execution_count": 9,
   "id": "74e5d449-9a37-4e72-baf6-7a66179c8eba",
   "metadata": {},
   "outputs": [],
   "source": [
    "p1.save_policy()\n",
    "p2.save_policy()"
   ]
  },
  {
   "cell_type": "code",
   "execution_count": 12,
   "id": "6755f685-3c33-437d-9fa3-ca126956b2fd",
   "metadata": {},
   "outputs": [
    {
     "name": "stdout",
     "output_type": "stream",
     "text": [
      "-------------\n",
      "|   |   |   |\n",
      "-------------\n",
      "|   | x |   |\n",
      "-------------\n",
      "|   |   |   |\n",
      "-------------\n"
     ]
    },
    {
     "name": "stdin",
     "output_type": "stream",
     "text": [
      "Row:  0\n",
      "Col:  1\n"
     ]
    },
    {
     "name": "stdout",
     "output_type": "stream",
     "text": [
      "-------------\n",
      "|   | o |   |\n",
      "-------------\n",
      "|   | x |   |\n",
      "-------------\n",
      "|   |   |   |\n",
      "-------------\n",
      "-------------\n",
      "|   | o |   |\n",
      "-------------\n",
      "|   | x | x |\n",
      "-------------\n",
      "|   |   |   |\n",
      "-------------\n"
     ]
    },
    {
     "name": "stdin",
     "output_type": "stream",
     "text": [
      "Row:  1\n",
      "Col:  0\n"
     ]
    },
    {
     "name": "stdout",
     "output_type": "stream",
     "text": [
      "-------------\n",
      "|   | o |   |\n",
      "-------------\n",
      "| o | x | x |\n",
      "-------------\n",
      "|   |   |   |\n",
      "-------------\n",
      "-------------\n",
      "|   | o | x |\n",
      "-------------\n",
      "| o | x | x |\n",
      "-------------\n",
      "|   |   |   |\n",
      "-------------\n"
     ]
    },
    {
     "name": "stdin",
     "output_type": "stream",
     "text": [
      "Row:  2\n",
      "Col:  0\n"
     ]
    },
    {
     "name": "stdout",
     "output_type": "stream",
     "text": [
      "-------------\n",
      "|   | o | x |\n",
      "-------------\n",
      "| o | x | x |\n",
      "-------------\n",
      "| o |   |   |\n",
      "-------------\n",
      "-------------\n",
      "|   | o | x |\n",
      "-------------\n",
      "| o | x | x |\n",
      "-------------\n",
      "| o |   | x |\n",
      "-------------\n",
      "A1 wins!\n"
     ]
    }
   ],
   "source": [
    "computer = p1.load_policy('policy_A1')\n",
    "human = HumanAgent('human')\n",
    "\n",
    "env = TicTacToeEnv(p1, human)\n",
    "env.play_with_human()"
   ]
  },
  {
   "cell_type": "code",
   "execution_count": null,
   "id": "247dd589-ee02-42b6-9900-b0b300af58b1",
   "metadata": {},
   "outputs": [],
   "source": []
  }
 ],
 "metadata": {
  "kernelspec": {
   "display_name": "Python 3 (ipykernel)",
   "language": "python",
   "name": "python3"
  },
  "language_info": {
   "codemirror_mode": {
    "name": "ipython",
    "version": 3
   },
   "file_extension": ".py",
   "mimetype": "text/x-python",
   "name": "python",
   "nbconvert_exporter": "python",
   "pygments_lexer": "ipython3",
   "version": "3.12.3"
  }
 },
 "nbformat": 4,
 "nbformat_minor": 5
}

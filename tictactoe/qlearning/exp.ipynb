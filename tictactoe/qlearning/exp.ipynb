{
 "cells": [
  {
   "cell_type": "code",
   "execution_count": 7,
   "id": "04a97f3d-f486-4e0b-9ecb-85575431e2d8",
   "metadata": {},
   "outputs": [],
   "source": [
    "from env import TicTacToeEnv\n",
    "from agent import Agent, HumanAgent"
   ]
  },
  {
   "cell_type": "markdown",
   "id": "9a16ad29-29a5-4ade-b44e-86724a320600",
   "metadata": {},
   "source": [
    "# Training"
   ]
  },
  {
   "cell_type": "code",
   "execution_count": 8,
   "id": "5a650752-27dd-4140-9e18-c032d30fcc98",
   "metadata": {},
   "outputs": [],
   "source": [
    "p1 = Agent(\"A1\")\n",
    "p2 = Agent(\"A2\")\n",
    "p3 = Agent(\"A3\")"
   ]
  },
  {
   "cell_type": "code",
   "execution_count": 9,
   "id": "d7210bf8-767d-4021-b4f9-4aff9447a64d",
   "metadata": {},
   "outputs": [
    {
     "name": "stderr",
     "output_type": "stream",
     "text": [
      "100%|████████████████████████████████████████████████████████████████████████████████████████████████████████████████████████████████████████████████████| 1000000/1000000 [1:03:13<00:00, 263.58it/s]\n",
      "100%|████████████████████████████████████████████████████████████████████████████████████████████████████████████████████████████████████████████████████| 1000000/1000000 [2:23:39<00:00, 116.02it/s]\n"
     ]
    }
   ],
   "source": [
    "env = TicTacToeEnv(p1, p2)\n",
    "env.play(1000000)\n",
    "\n",
    "env = TicTacToeEnv(p3, p1)\n",
    "env.play(1000000)"
   ]
  },
  {
   "cell_type": "code",
   "execution_count": 10,
   "id": "74e5d449-9a37-4e72-baf6-7a66179c8eba",
   "metadata": {},
   "outputs": [],
   "source": [
    "p1.save_policy()\n",
    "p2.save_policy()\n",
    "p3.save_policy()"
   ]
  },
  {
   "cell_type": "code",
   "execution_count": 13,
   "id": "6755f685-3c33-437d-9fa3-ca126956b2fd",
   "metadata": {},
   "outputs": [
    {
     "name": "stdout",
     "output_type": "stream",
     "text": [
      "-------------\n",
      "|   |   |   |\n",
      "-------------\n",
      "|   | x |   |\n",
      "-------------\n",
      "|   |   |   |\n",
      "-------------\n"
     ]
    },
    {
     "name": "stdin",
     "output_type": "stream",
     "text": [
      "Row:  0\n",
      "Col:  1\n"
     ]
    },
    {
     "name": "stdout",
     "output_type": "stream",
     "text": [
      "-------------\n",
      "|   | o |   |\n",
      "-------------\n",
      "|   | x |   |\n",
      "-------------\n",
      "|   |   |   |\n",
      "-------------\n",
      "-------------\n",
      "|   | o |   |\n",
      "-------------\n",
      "|   | x |   |\n",
      "-------------\n",
      "| x |   |   |\n",
      "-------------\n"
     ]
    },
    {
     "name": "stdin",
     "output_type": "stream",
     "text": [
      "Row:  0\n",
      "Col:  2\n"
     ]
    },
    {
     "name": "stdout",
     "output_type": "stream",
     "text": [
      "-------------\n",
      "|   | o | o |\n",
      "-------------\n",
      "|   | x |   |\n",
      "-------------\n",
      "| x |   |   |\n",
      "-------------\n",
      "-------------\n",
      "| x | o | o |\n",
      "-------------\n",
      "|   | x |   |\n",
      "-------------\n",
      "| x |   |   |\n",
      "-------------\n"
     ]
    },
    {
     "name": "stdin",
     "output_type": "stream",
     "text": [
      "Row:  2\n",
      "Col:  2\n"
     ]
    },
    {
     "name": "stdout",
     "output_type": "stream",
     "text": [
      "-------------\n",
      "| x | o | o |\n",
      "-------------\n",
      "|   | x |   |\n",
      "-------------\n",
      "| x |   | o |\n",
      "-------------\n",
      "-------------\n",
      "| x | o | o |\n",
      "-------------\n",
      "| x | x |   |\n",
      "-------------\n",
      "| x |   | o |\n",
      "-------------\n",
      "A1 wins!\n"
     ]
    }
   ],
   "source": [
    "computer = p1.load_policy('policy_A1')\n",
    "human = HumanAgent('human')\n",
    "\n",
    "env = TicTacToeEnv(p1, human)\n",
    "env.play_with_human()"
   ]
  },
  {
   "cell_type": "code",
   "execution_count": 14,
   "id": "247dd589-ee02-42b6-9900-b0b300af58b1",
   "metadata": {},
   "outputs": [
    {
     "name": "stdin",
     "output_type": "stream",
     "text": [
      "Row:  1\n",
      "Col:  1\n"
     ]
    },
    {
     "name": "stdout",
     "output_type": "stream",
     "text": [
      "-------------\n",
      "|   |   |   |\n",
      "-------------\n",
      "|   | x |   |\n",
      "-------------\n",
      "|   |   |   |\n",
      "-------------\n",
      "-------------\n",
      "|   |   |   |\n",
      "-------------\n",
      "|   | x |   |\n",
      "-------------\n",
      "|   |   | o |\n",
      "-------------\n"
     ]
    },
    {
     "name": "stdin",
     "output_type": "stream",
     "text": [
      "Row:  1\n",
      "Col:  0\n"
     ]
    },
    {
     "name": "stdout",
     "output_type": "stream",
     "text": [
      "-------------\n",
      "|   |   |   |\n",
      "-------------\n",
      "| x | x |   |\n",
      "-------------\n",
      "|   |   | o |\n",
      "-------------\n",
      "-------------\n",
      "| o |   |   |\n",
      "-------------\n",
      "| x | x |   |\n",
      "-------------\n",
      "|   |   | o |\n",
      "-------------\n"
     ]
    },
    {
     "name": "stdin",
     "output_type": "stream",
     "text": [
      "Row:  1\n",
      "Col:  2\n"
     ]
    },
    {
     "name": "stdout",
     "output_type": "stream",
     "text": [
      "-------------\n",
      "| o |   |   |\n",
      "-------------\n",
      "| x | x | x |\n",
      "-------------\n",
      "|   |   | o |\n",
      "-------------\n",
      "human wins!\n"
     ]
    }
   ],
   "source": [
    "computer = p1.load_policy('policy_A1')\n",
    "human = HumanAgent('human')\n",
    "\n",
    "env = TicTacToeEnv(p1, human)\n",
    "env.play_with_human(starts='human')"
   ]
  },
  {
   "cell_type": "code",
   "execution_count": null,
   "id": "edde26f7-043b-4e82-b21b-83db0915702a",
   "metadata": {},
   "outputs": [],
   "source": []
  },
  {
   "cell_type": "code",
   "execution_count": null,
   "id": "ee6653a3-6898-4438-8af3-b039e352b129",
   "metadata": {},
   "outputs": [],
   "source": []
  }
 ],
 "metadata": {
  "kernelspec": {
   "display_name": "Python 3 (ipykernel)",
   "language": "python",
   "name": "python3"
  },
  "language_info": {
   "codemirror_mode": {
    "name": "ipython",
    "version": 3
   },
   "file_extension": ".py",
   "mimetype": "text/x-python",
   "name": "python",
   "nbconvert_exporter": "python",
   "pygments_lexer": "ipython3",
   "version": "3.12.3"
  }
 },
 "nbformat": 4,
 "nbformat_minor": 5
}

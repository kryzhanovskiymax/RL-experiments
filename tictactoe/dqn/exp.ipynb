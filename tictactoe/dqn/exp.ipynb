{
 "cells": [
  {
   "cell_type": "code",
   "execution_count": 1,
   "id": "1c00b125-27d4-4283-acd9-e5b6245f8c2e",
   "metadata": {},
   "outputs": [],
   "source": [
    "from environment import TicTacToeEnv\n",
    "from agent import QAgent, QAgentConvNetwork\n",
    "from train import train\n",
    "from torch.utils.tensorboard import SummaryWriter\n",
    "import gym"
   ]
  },
  {
   "cell_type": "markdown",
   "id": "2ec02cbd-fcbb-4c19-9fd6-5184a21f4cc3",
   "metadata": {},
   "source": [
    "# Training against random policy"
   ]
  },
  {
   "cell_type": "code",
   "execution_count": 2,
   "id": "abfdeec8-a20d-4276-876e-2fd2e9735c44",
   "metadata": {},
   "outputs": [
    {
     "name": "stderr",
     "output_type": "stream",
     "text": [
      "/Users/maximkryzhanovskiy/Desktop/projects/RL/.venv/lib/python3.12/site-packages/gym/utils/passive_env_checker.py:31: UserWarning: \u001b[33mWARN: A Box observation space has an unconventional shape (neither an image, nor a 1D vector). We recommend flattening the observation to have only a 1D vector or use a custom policy to properly process the data. Actual observation shape: (3, 3)\u001b[0m\n",
      "  logger.warn(\n"
     ]
    }
   ],
   "source": [
    "env = gym.make('TicTacToe-v0')\n",
    "network = QAgentConvNetwork(hidden_sizes=[64, 128, 128, 64])\n",
    "agent = QAgent(env,\n",
    "               name='Agent_1',\n",
    "               network=network,\n",
    "               batch_size=64,\n",
    "               epsilon_decay=0.9999,\n",
    "               update_rate=10)"
   ]
  },
  {
   "cell_type": "code",
   "execution_count": 3,
   "id": "45a7112b-ec27-4e10-b696-68983aae9a7a",
   "metadata": {},
   "outputs": [
    {
     "name": "stderr",
     "output_type": "stream",
     "text": [
      "  0%|                                                                                                                                    | 0/20000 [00:00<?, ?it/s]/Users/maximkryzhanovskiy/Desktop/projects/RL/.venv/lib/python3.12/site-packages/gym/utils/passive_env_checker.py:141: UserWarning: \u001b[33mWARN: The obs returned by the `reset()` method was expecting numpy array dtype to be int8, actual type: int64\u001b[0m\n",
      "  logger.warn(\n",
      "/Users/maximkryzhanovskiy/Desktop/projects/RL/.venv/lib/python3.12/site-packages/gym/utils/passive_env_checker.py:165: UserWarning: \u001b[33mWARN: The obs returned by the `reset()` method is not within the observation space.\u001b[0m\n",
      "  logger.warn(f\"{pre} is not within the observation space.\")\n",
      "/Users/maximkryzhanovskiy/Desktop/projects/RL/.venv/lib/python3.12/site-packages/gym/utils/passive_env_checker.py:219: DeprecationWarning: \u001b[33mWARN: Core environment is written in old step API which returns one bool instead of two. It is recommended to rewrite the environment with new step API. \u001b[0m\n",
      "  logger.deprecation(\n",
      "/Users/maximkryzhanovskiy/Desktop/projects/RL/.venv/lib/python3.12/site-packages/gym/utils/passive_env_checker.py:225: DeprecationWarning: `np.bool8` is a deprecated alias for `np.bool_`.  (Deprecated NumPy 1.24)\n",
      "  if not isinstance(done, (bool, np.bool8)):\n",
      "/Users/maximkryzhanovskiy/Desktop/projects/RL/.venv/lib/python3.12/site-packages/gym/utils/passive_env_checker.py:141: UserWarning: \u001b[33mWARN: The obs returned by the `step()` method was expecting numpy array dtype to be int8, actual type: int64\u001b[0m\n",
      "  logger.warn(\n",
      "/Users/maximkryzhanovskiy/Desktop/projects/RL/.venv/lib/python3.12/site-packages/gym/utils/passive_env_checker.py:165: UserWarning: \u001b[33mWARN: The obs returned by the `step()` method is not within the observation space.\u001b[0m\n",
      "  logger.warn(f\"{pre} is not within the observation space.\")\n",
      "100%|████████████████████████████████████████████████████████████████████████████████████████████████████████████████████████| 20000/20000 [41:07<00:00,  8.10it/s]\n"
     ]
    }
   ],
   "source": [
    "history = train(agent, env, episodes=20000,\n",
    "      log=False, log_episode=False, reward_smoothing=500)"
   ]
  },
  {
   "cell_type": "markdown",
   "id": "6e79067a-544d-4c23-aaee-3a8b247ee67a",
   "metadata": {},
   "source": [
    "# Training against trained agent"
   ]
  },
  {
   "cell_type": "code",
   "execution_count": null,
   "id": "f42df6ea-d707-4c13-8aca-498c00dcd447",
   "metadata": {},
   "outputs": [],
   "source": [
    "opponent_network = QAgentConvNetwork(hidden_size=[64, 128, 128, 64])\n",
    "opponent = QAgent(env,\n",
    "                  name='Opponent',\n",
    "                  network=opponent_network,\n",
    "                  batch_size=10,\n",
    "                  epsilon_decay=0.999)\n",
    "train(agent, env, episodes=10000, log=False,\n",
    "      log_episode=False, reward_smoothing=500)\n"
   ]
  },
  {
   "cell_type": "markdown",
   "id": "d2af8961-d8db-4978-8c6b-e1228fc604cf",
   "metadata": {},
   "source": [
    "# Training against Human"
   ]
  },
  {
   "cell_type": "code",
   "execution_count": null,
   "id": "9ee0b74f-cb22-455a-9e0d-97983842614c",
   "metadata": {},
   "outputs": [],
   "source": []
  }
 ],
 "metadata": {
  "kernelspec": {
   "display_name": "Python 3 (ipykernel)",
   "language": "python",
   "name": "python3"
  },
  "language_info": {
   "codemirror_mode": {
    "name": "ipython",
    "version": 3
   },
   "file_extension": ".py",
   "mimetype": "text/x-python",
   "name": "python",
   "nbconvert_exporter": "python",
   "pygments_lexer": "ipython3",
   "version": "3.12.3"
  }
 },
 "nbformat": 4,
 "nbformat_minor": 5
}

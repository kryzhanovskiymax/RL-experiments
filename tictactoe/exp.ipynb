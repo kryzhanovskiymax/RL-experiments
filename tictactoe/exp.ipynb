{
 "cells": [
  {
   "cell_type": "code",
   "execution_count": 23,
   "id": "1c00b125-27d4-4283-acd9-e5b6245f8c2e",
   "metadata": {},
   "outputs": [],
   "source": [
    "from environment import TicTacToeEnv\n",
    "from agent import QAgent, QAgentConvNetwork\n",
    "from train import train\n",
    "from torch.utils.tensorboard import SummaryWriter\n",
    "import gym"
   ]
  },
  {
   "cell_type": "markdown",
   "id": "2ec02cbd-fcbb-4c19-9fd6-5184a21f4cc3",
   "metadata": {},
   "source": [
    "# Training against random policy"
   ]
  },
  {
   "cell_type": "code",
   "execution_count": 24,
   "id": "abfdeec8-a20d-4276-876e-2fd2e9735c44",
   "metadata": {},
   "outputs": [],
   "source": [
    "env = gym.make('TicTacToe-v0')\n",
    "network = QAgentConvNetwork(hidden_sizes=[64, 64])\n",
    "agent = QAgent(env,\n",
    "               network=network,\n",
    "               batch_size=64,\n",
    "               epsilon_decay=0.999)"
   ]
  },
  {
   "cell_type": "code",
   "execution_count": 25,
   "id": "45a7112b-ec27-4e10-b696-68983aae9a7a",
   "metadata": {},
   "outputs": [
    {
     "name": "stderr",
     "output_type": "stream",
     "text": [
      "100%|█████████████████████████████████████████████████████████████████████████████████████████████████████████████████████████████████████████████████████████████████████████████████████████████████████████████████████████████████████| 10000/10000 [10:17<00:00, 16.20it/s]\n"
     ]
    }
   ],
   "source": [
    "history = train(agent, env, episodes=10000,\n",
    "      log=False, log_episode=False, reward_smoothing=500)"
   ]
  },
  {
   "cell_type": "code",
   "execution_count": 17,
   "id": "0d36f3c3-8312-4bbd-9fd3-143758a7b981",
   "metadata": {},
   "outputs": [],
   "source": [
    "history"
   ]
  },
  {
   "cell_type": "code",
   "execution_count": null,
   "id": "8c59ef8b-3e04-4bf6-9879-58a10d8a7b6c",
   "metadata": {},
   "outputs": [],
   "source": []
  },
  {
   "cell_type": "markdown",
   "id": "6e79067a-544d-4c23-aaee-3a8b247ee67a",
   "metadata": {},
   "source": [
    "# Training against trained agent"
   ]
  },
  {
   "cell_type": "code",
   "execution_count": null,
   "id": "f42df6ea-d707-4c13-8aca-498c00dcd447",
   "metadata": {},
   "outputs": [],
   "source": []
  }
 ],
 "metadata": {
  "kernelspec": {
   "display_name": "Python 3 (ipykernel)",
   "language": "python",
   "name": "python3"
  },
  "language_info": {
   "codemirror_mode": {
    "name": "ipython",
    "version": 3
   },
   "file_extension": ".py",
   "mimetype": "text/x-python",
   "name": "python",
   "nbconvert_exporter": "python",
   "pygments_lexer": "ipython3",
   "version": "3.12.3"
  }
 },
 "nbformat": 4,
 "nbformat_minor": 5
}

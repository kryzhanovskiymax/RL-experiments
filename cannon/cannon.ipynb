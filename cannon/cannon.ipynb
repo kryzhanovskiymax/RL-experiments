{
 "cells": [
  {
   "cell_type": "code",
   "execution_count": 1,
   "id": "4ccf7648-7ba7-4fea-8951-6d257b173826",
   "metadata": {},
   "outputs": [],
   "source": [
    "from environment import CannonEnv, CannonEnvSettings\n",
    "from train import EvolutionaryTrainer, TrainSettings\n",
    "import warnings\n",
    "import numpy as np\n",
    "import gym\n",
    "from torch.utils.tensorboard import SummaryWriter\n",
    "\n",
    "warnings.simplefilter(action='ignore', category=FutureWarning)"
   ]
  },
  {
   "cell_type": "code",
   "execution_count": 2,
   "id": "7658b50a-1be3-4e88-ba23-514e000a98e3",
   "metadata": {},
   "outputs": [],
   "source": [
    "def calc_answer(distance, alpha, g):\n",
    "    alpha = np.deg2rad(alpha)\n",
    "    tmp = g * distance / 2 / np.cos(alpha) / np.sin(alpha)\n",
    "    return np.sqrt(tmp)"
   ]
  },
  {
   "cell_type": "code",
   "execution_count": 3,
   "id": "b8d31e28-b73c-44c8-b779-15799873d388",
   "metadata": {},
   "outputs": [],
   "source": [
    "env_settings = CannonEnvSettings(\n",
    "    angle = 45.0,\n",
    "    degrees = True,\n",
    "    distance = 100.0,\n",
    "    g = 10.0,\n",
    "    \n",
    ")\n",
    "\n",
    "train_settings = TrainSettings(\n",
    "    dispersion=20,\n",
    "    batch_size=20,\n",
    "    learning_rate=10,\n",
    "    start_speed=24.0,\n",
    "    gamma = 0.001,\n",
    "    beta = 100.0\n",
    ")\n",
    "\n",
    "env = gym.make('CannonEnv-v0')\n",
    "trainer = EvolutionaryTrainer(env=env,\n",
    "                  settings=train_settings,\n",
    "                  writer=SummaryWriter(),\n",
    "                  smoothing=1000)"
   ]
  },
  {
   "cell_type": "code",
   "execution_count": 4,
   "id": "24809b5b-a03f-4118-9289-9dfeb12a764a",
   "metadata": {},
   "outputs": [
    {
     "name": "stdout",
     "output_type": "stream",
     "text": [
      "Answer: 31.622776601683793\n"
     ]
    }
   ],
   "source": [
    "answer = calc_answer(env_settings.distance,\n",
    "                     env_settings.angle,\n",
    "                     env_settings.g)\n",
    "print(f\"Answer: {answer}\")"
   ]
  },
  {
   "cell_type": "markdown",
   "id": "ed8db3b7-af0f-4cd9-9c1d-7fa39cda8d3d",
   "metadata": {},
   "source": [
    "# Genetic Algorithms"
   ]
  },
  {
   "cell_type": "code",
   "execution_count": 7,
   "id": "f748f379-ba3f-41d5-8cec-5cf2cbb956a3",
   "metadata": {},
   "outputs": [],
   "source": [
    "from train import GeneticTrainer, GeneticTrainSettings"
   ]
  },
  {
   "cell_type": "code",
   "execution_count": 8,
   "id": "e0e64640-756a-4cef-8587-ec660a725abf",
   "metadata": {},
   "outputs": [
    {
     "name": "stderr",
     "output_type": "stream",
     "text": [
      "100%|█████████████████████████████████████████████████████████████████████████████████████████████████████████████████████████| 1000/1000 [00:02<00:00, 397.05it/s]"
     ]
    },
    {
     "name": "stdout",
     "output_type": "stream",
     "text": [
      "Speed with gen algo: 31.622776601683793, Optimal speed: 31.622776601683793\n",
      "Delta: 0.0000\n"
     ]
    },
    {
     "name": "stderr",
     "output_type": "stream",
     "text": [
      "\n"
     ]
    }
   ],
   "source": [
    "genetic_trainer = GeneticTrainer(env=env, writer=SummaryWriter())\n",
    "optimal_speed = genetic_trainer.train(num_generations=1000)\n",
    "print(f\"Speed with gen algo: {optimal_speed:.4f}, Optimal speed: {answer:.4f}\")\n",
    "diff = np.abs(optimal_speed - answer)\n",
    "print(f\"Delta: {diff:.4f}\")"
   ]
  },
  {
   "cell_type": "code",
   "execution_count": null,
   "id": "c5dd8239-cad2-4586-9ed2-c36364e88ec5",
   "metadata": {},
   "outputs": [],
   "source": []
  }
 ],
 "metadata": {
  "kernelspec": {
   "display_name": "Python 3 (ipykernel)",
   "language": "python",
   "name": "python3"
  },
  "language_info": {
   "codemirror_mode": {
    "name": "ipython",
    "version": 3
   },
   "file_extension": ".py",
   "mimetype": "text/x-python",
   "name": "python",
   "nbconvert_exporter": "python",
   "pygments_lexer": "ipython3",
   "version": "3.12.3"
  }
 },
 "nbformat": 4,
 "nbformat_minor": 5
}
